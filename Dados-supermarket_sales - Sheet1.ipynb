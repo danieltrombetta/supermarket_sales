{
 "cells": [
  {
   "cell_type": "code",
   "execution_count": 1,
   "id": "9111a437-1b53-416d-a086-1dddb1c84f14",
   "metadata": {},
   "outputs": [],
   "source": [
    "import pandas as pd"
   ]
  },
  {
   "cell_type": "code",
   "execution_count": 2,
   "id": "b066b397-3f0f-4d04-96e3-232dcefc0cca",
   "metadata": {},
   "outputs": [],
   "source": [
    "# https://www.kaggle.com/datasets/aungpyaeap/supermarket-sales\n",
    "df = pd.read_csv('supermarket_sales - Sheet1.csv')"
   ]
  },
  {
   "cell_type": "code",
   "execution_count": 3,
   "id": "7395f3b9-0748-4134-bf44-bc9042bd06a0",
   "metadata": {},
   "outputs": [
    {
     "data": {
      "text/html": [
       "<div>\n",
       "<style scoped>\n",
       "    .dataframe tbody tr th:only-of-type {\n",
       "        vertical-align: middle;\n",
       "    }\n",
       "\n",
       "    .dataframe tbody tr th {\n",
       "        vertical-align: top;\n",
       "    }\n",
       "\n",
       "    .dataframe thead th {\n",
       "        text-align: right;\n",
       "    }\n",
       "</style>\n",
       "<table border=\"1\" class=\"dataframe\">\n",
       "  <thead>\n",
       "    <tr style=\"text-align: right;\">\n",
       "      <th></th>\n",
       "      <th>Invoice ID</th>\n",
       "      <th>Branch</th>\n",
       "      <th>City</th>\n",
       "      <th>Customer type</th>\n",
       "      <th>Gender</th>\n",
       "      <th>Product line</th>\n",
       "      <th>Unit price</th>\n",
       "      <th>Quantity</th>\n",
       "      <th>Tax 5%</th>\n",
       "      <th>Total</th>\n",
       "      <th>Date</th>\n",
       "      <th>Time</th>\n",
       "      <th>Payment</th>\n",
       "      <th>cogs</th>\n",
       "      <th>gross margin percentage</th>\n",
       "      <th>gross income</th>\n",
       "      <th>Rating</th>\n",
       "    </tr>\n",
       "  </thead>\n",
       "  <tbody>\n",
       "    <tr>\n",
       "      <th>0</th>\n",
       "      <td>750-67-8428</td>\n",
       "      <td>A</td>\n",
       "      <td>Yangon</td>\n",
       "      <td>Member</td>\n",
       "      <td>Female</td>\n",
       "      <td>Health and beauty</td>\n",
       "      <td>74.69</td>\n",
       "      <td>7</td>\n",
       "      <td>26.1415</td>\n",
       "      <td>548.9715</td>\n",
       "      <td>1/5/2019</td>\n",
       "      <td>13:08</td>\n",
       "      <td>Ewallet</td>\n",
       "      <td>522.83</td>\n",
       "      <td>4.761905</td>\n",
       "      <td>26.1415</td>\n",
       "      <td>9.1</td>\n",
       "    </tr>\n",
       "    <tr>\n",
       "      <th>1</th>\n",
       "      <td>226-31-3081</td>\n",
       "      <td>C</td>\n",
       "      <td>Naypyitaw</td>\n",
       "      <td>Normal</td>\n",
       "      <td>Female</td>\n",
       "      <td>Electronic accessories</td>\n",
       "      <td>15.28</td>\n",
       "      <td>5</td>\n",
       "      <td>3.8200</td>\n",
       "      <td>80.2200</td>\n",
       "      <td>3/8/2019</td>\n",
       "      <td>10:29</td>\n",
       "      <td>Cash</td>\n",
       "      <td>76.40</td>\n",
       "      <td>4.761905</td>\n",
       "      <td>3.8200</td>\n",
       "      <td>9.6</td>\n",
       "    </tr>\n",
       "    <tr>\n",
       "      <th>2</th>\n",
       "      <td>631-41-3108</td>\n",
       "      <td>A</td>\n",
       "      <td>Yangon</td>\n",
       "      <td>Normal</td>\n",
       "      <td>Male</td>\n",
       "      <td>Home and lifestyle</td>\n",
       "      <td>46.33</td>\n",
       "      <td>7</td>\n",
       "      <td>16.2155</td>\n",
       "      <td>340.5255</td>\n",
       "      <td>3/3/2019</td>\n",
       "      <td>13:23</td>\n",
       "      <td>Credit card</td>\n",
       "      <td>324.31</td>\n",
       "      <td>4.761905</td>\n",
       "      <td>16.2155</td>\n",
       "      <td>7.4</td>\n",
       "    </tr>\n",
       "    <tr>\n",
       "      <th>3</th>\n",
       "      <td>123-19-1176</td>\n",
       "      <td>A</td>\n",
       "      <td>Yangon</td>\n",
       "      <td>Member</td>\n",
       "      <td>Male</td>\n",
       "      <td>Health and beauty</td>\n",
       "      <td>58.22</td>\n",
       "      <td>8</td>\n",
       "      <td>23.2880</td>\n",
       "      <td>489.0480</td>\n",
       "      <td>1/27/2019</td>\n",
       "      <td>20:33</td>\n",
       "      <td>Ewallet</td>\n",
       "      <td>465.76</td>\n",
       "      <td>4.761905</td>\n",
       "      <td>23.2880</td>\n",
       "      <td>8.4</td>\n",
       "    </tr>\n",
       "    <tr>\n",
       "      <th>4</th>\n",
       "      <td>373-73-7910</td>\n",
       "      <td>A</td>\n",
       "      <td>Yangon</td>\n",
       "      <td>Normal</td>\n",
       "      <td>Male</td>\n",
       "      <td>Sports and travel</td>\n",
       "      <td>86.31</td>\n",
       "      <td>7</td>\n",
       "      <td>30.2085</td>\n",
       "      <td>634.3785</td>\n",
       "      <td>2/8/2019</td>\n",
       "      <td>10:37</td>\n",
       "      <td>Ewallet</td>\n",
       "      <td>604.17</td>\n",
       "      <td>4.761905</td>\n",
       "      <td>30.2085</td>\n",
       "      <td>5.3</td>\n",
       "    </tr>\n",
       "  </tbody>\n",
       "</table>\n",
       "</div>"
      ],
      "text/plain": [
       "    Invoice ID Branch       City Customer type  Gender  \\\n",
       "0  750-67-8428      A     Yangon        Member  Female   \n",
       "1  226-31-3081      C  Naypyitaw        Normal  Female   \n",
       "2  631-41-3108      A     Yangon        Normal    Male   \n",
       "3  123-19-1176      A     Yangon        Member    Male   \n",
       "4  373-73-7910      A     Yangon        Normal    Male   \n",
       "\n",
       "             Product line  Unit price  Quantity   Tax 5%     Total       Date  \\\n",
       "0       Health and beauty       74.69         7  26.1415  548.9715   1/5/2019   \n",
       "1  Electronic accessories       15.28         5   3.8200   80.2200   3/8/2019   \n",
       "2      Home and lifestyle       46.33         7  16.2155  340.5255   3/3/2019   \n",
       "3       Health and beauty       58.22         8  23.2880  489.0480  1/27/2019   \n",
       "4       Sports and travel       86.31         7  30.2085  634.3785   2/8/2019   \n",
       "\n",
       "    Time      Payment    cogs  gross margin percentage  gross income  Rating  \n",
       "0  13:08      Ewallet  522.83                 4.761905       26.1415     9.1  \n",
       "1  10:29         Cash   76.40                 4.761905        3.8200     9.6  \n",
       "2  13:23  Credit card  324.31                 4.761905       16.2155     7.4  \n",
       "3  20:33      Ewallet  465.76                 4.761905       23.2880     8.4  \n",
       "4  10:37      Ewallet  604.17                 4.761905       30.2085     5.3  "
      ]
     },
     "execution_count": 3,
     "metadata": {},
     "output_type": "execute_result"
    }
   ],
   "source": [
    "df.head()"
   ]
  },
  {
   "cell_type": "code",
   "execution_count": 4,
   "id": "f3ba7193-c657-419b-a1af-4213fe3d9c7b",
   "metadata": {
    "scrolled": true
   },
   "outputs": [
    {
     "name": "stdout",
     "output_type": "stream",
     "text": [
      "<class 'pandas.core.frame.DataFrame'>\n",
      "RangeIndex: 1000 entries, 0 to 999\n",
      "Data columns (total 17 columns):\n",
      " #   Column                   Non-Null Count  Dtype  \n",
      "---  ------                   --------------  -----  \n",
      " 0   Invoice ID               1000 non-null   object \n",
      " 1   Branch                   1000 non-null   object \n",
      " 2   City                     1000 non-null   object \n",
      " 3   Customer type            1000 non-null   object \n",
      " 4   Gender                   1000 non-null   object \n",
      " 5   Product line             1000 non-null   object \n",
      " 6   Unit price               1000 non-null   float64\n",
      " 7   Quantity                 1000 non-null   int64  \n",
      " 8   Tax 5%                   1000 non-null   float64\n",
      " 9   Total                    1000 non-null   float64\n",
      " 10  Date                     1000 non-null   object \n",
      " 11  Time                     1000 non-null   object \n",
      " 12  Payment                  1000 non-null   object \n",
      " 13  cogs                     1000 non-null   float64\n",
      " 14  gross margin percentage  1000 non-null   float64\n",
      " 15  gross income             1000 non-null   float64\n",
      " 16  Rating                   1000 non-null   float64\n",
      "dtypes: float64(7), int64(1), object(9)\n",
      "memory usage: 132.9+ KB\n"
     ]
    }
   ],
   "source": [
    "# Mostra informaçoes de cada coluna como tipo, se tem valor nulo, quantidade\n",
    "df.info()"
   ]
  },
  {
   "cell_type": "markdown",
   "id": "a63a29fa-8fb5-4d1c-b6fd-b3405fe5264e",
   "metadata": {},
   "source": [
    "Foi mostrado ao ChatGPT as colunas da tabela e pedido para retornar perguntas de forma aleatorias com a utilização da biblioteca **Pandas**"
   ]
  },
  {
   "cell_type": "markdown",
   "id": "ef98ea40-23d3-42c8-8015-0ebbfdab33f4",
   "metadata": {},
   "source": [
    "1 - Quantas linhas e colunas existem no seu conjunto de dados?"
   ]
  },
  {
   "cell_type": "code",
   "execution_count": 5,
   "id": "7a8b5c0f-57fb-43f0-87a5-24949d673ca2",
   "metadata": {},
   "outputs": [
    {
     "name": "stdout",
     "output_type": "stream",
     "text": [
      "Existe um total de 1000 linhas e 17 colunas\n"
     ]
    }
   ],
   "source": [
    "resp_1 = df.shape\n",
    "print(f'Existe um total de {resp_1[0]} linhas e {resp_1[1]} colunas')"
   ]
  },
  {
   "cell_type": "markdown",
   "id": "293c139d-7ab8-449a-b012-d874c562548e",
   "metadata": {},
   "source": [
    "2 - Qual é o valor médio da coluna \"Unit price\"?"
   ]
  },
  {
   "cell_type": "code",
   "execution_count": 6,
   "id": "ccfe24b8-df93-4ba7-ae53-71e0576b1383",
   "metadata": {},
   "outputs": [
    {
     "name": "stdout",
     "output_type": "stream",
     "text": [
      "o valor medio da coluna \"Unit price\" é de 55.67\n"
     ]
    }
   ],
   "source": [
    "resp_2 = df['Unit price'].mean()\n",
    "print(f'o valor medio da coluna \"Unit price\" é de {resp_2:.2f}')"
   ]
  },
  {
   "cell_type": "markdown",
   "id": "9fd79846-8a6d-440f-835e-6a76ade0e051",
   "metadata": {},
   "source": [
    "3 - Qual é o total de vendas (soma da coluna \"Total\")?"
   ]
  },
  {
   "cell_type": "code",
   "execution_count": 7,
   "id": "8abb4735-6031-4c9c-a30e-57918e99b746",
   "metadata": {},
   "outputs": [
    {
     "name": "stdout",
     "output_type": "stream",
     "text": [
      "O total de vendas da coluna \"Total\" é de 322966.75\n"
     ]
    }
   ],
   "source": [
    "resp_3 = df['Total'].sum()\n",
    "print(f'O total de vendas da coluna \"Total\" é de {resp_3:.2f}')"
   ]
  },
  {
   "cell_type": "markdown",
   "id": "6931045e-92e4-4d0f-9d76-749032f2fae9",
   "metadata": {},
   "source": [
    "4 - Qual é o rating médio das avaliações (coluna \"Rating\")?"
   ]
  },
  {
   "cell_type": "code",
   "execution_count": 8,
   "id": "8e085613-23fc-4322-81a4-ef9d5b16f215",
   "metadata": {},
   "outputs": [
    {
     "name": "stdout",
     "output_type": "stream",
     "text": [
      "As avaliações medias da colune \"Rating\" é 6.97\n"
     ]
    }
   ],
   "source": [
    "resp_4 = df['Rating'].mean()\n",
    "print(f'As avaliações medias da colune \"Rating\" é {resp_4:.2f}')"
   ]
  },
  {
   "cell_type": "markdown",
   "id": "9c7f12ee-751d-4737-9bb6-b98541b0b64d",
   "metadata": {},
   "source": [
    "5 - Quantos clientes únicos existem no conjunto de dados?"
   ]
  },
  {
   "cell_type": "code",
   "execution_count": 9,
   "id": "c9dd6b2e-7e53-4ef6-84ab-d97170602f4b",
   "metadata": {},
   "outputs": [
    {
     "name": "stdout",
     "output_type": "stream",
     "text": [
      "Existem 1000 ID unicos\n"
     ]
    }
   ],
   "source": [
    "resp_5 = df['Invoice ID'].nunique()\n",
    "print(f'Existem {resp_5} ID unicos')"
   ]
  },
  {
   "cell_type": "markdown",
   "id": "e4d80389-e915-4b06-9fc9-5afb5b890797",
   "metadata": {},
   "source": [
    "6 - Quais são os 5 principais clientes que gastaram mais?"
   ]
  },
  {
   "cell_type": "code",
   "execution_count": 10,
   "id": "33d69cac-821a-40cb-9d4d-5964caea36f7",
   "metadata": {},
   "outputs": [
    {
     "name": "stdout",
     "output_type": "stream",
     "text": [
      "Os clientes que gastam mais são:\n",
      "Invoice ID\n",
      "860-79-0874    1042.65\n",
      "687-47-8271    1039.29\n",
      "283-26-5248    1034.46\n",
      "751-41-9720    1023.75\n",
      "303-96-2227    1022.49\n",
      "Name: Total, dtype: float64\n"
     ]
    }
   ],
   "source": [
    "resp_6 = df.groupby('Invoice ID')['Total'].sum().nlargest(5)\n",
    "print(f'Os clientes que gastam mais são:\\n{resp_6}')"
   ]
  },
  {
   "cell_type": "markdown",
   "id": "42706798-5bab-44ba-b39c-01201e6ff272",
   "metadata": {},
   "source": [
    "7 - Qual é a distribuição de gênero entre os clientes?"
   ]
  },
  {
   "cell_type": "code",
   "execution_count": 11,
   "id": "ac083d53-45c0-4b9e-aa6f-855d5fd31fab",
   "metadata": {},
   "outputs": [
    {
     "name": "stdout",
     "output_type": "stream",
     "text": [
      "Porcentagem de gênero na coluna \"Gender\":\n",
      "Gender\n",
      "Female    50.1\n",
      "Male      49.9\n",
      "Name: proportion, dtype: float64\n"
     ]
    }
   ],
   "source": [
    "resp_7 = df['Gender'].value_counts(normalize=True) * 100\n",
    "print('Porcentagem de gênero na coluna \"Gender\":')\n",
    "print(resp_7)\n"
   ]
  },
  {
   "cell_type": "markdown",
   "id": "a20fe765-cc28-4335-93df-cb4a13ba8262",
   "metadata": {},
   "source": [
    "8 - Qual é o produto mais vendido (com base na coluna \"Quantity\")?"
   ]
  },
  {
   "cell_type": "code",
   "execution_count": 12,
   "id": "c08bc7a8-7afa-4f27-aed6-4c8eb2ecd081",
   "metadata": {},
   "outputs": [
    {
     "name": "stdout",
     "output_type": "stream",
     "text": [
      "O produto mais vendido da coluna \"quatity\" é \"Electronic accessories\"\n"
     ]
    }
   ],
   "source": [
    "soma_quant = df.groupby('Product line')['Quantity'].sum()\n",
    "resp_8 = soma_quant.idxmax()\n",
    "print(f'O produto mais vendido da coluna \"quatity\" é \"{resp_8}\"')"
   ]
  },
  {
   "cell_type": "markdown",
   "id": "df5ddee5-f202-4c6c-aac8-9b81dcc10c35",
   "metadata": {},
   "source": [
    "9 - Qual é o produto mais lucrativo (com base na coluna \"gross income\")?"
   ]
  },
  {
   "cell_type": "code",
   "execution_count": 13,
   "id": "f5cc4a7c-1be2-4064-beba-19017458fd38",
   "metadata": {},
   "outputs": [
    {
     "name": "stdout",
     "output_type": "stream",
     "text": [
      "O produto mais lucrativo é \"Food and beverages\"\n"
     ]
    }
   ],
   "source": [
    "resp_9 = df.groupby('Product line')['gross income'].sum().idxmax()\n",
    "print(f'O produto mais lucrativo é \"{resp_9}\"')"
   ]
  },
  {
   "cell_type": "markdown",
   "id": "8f85fec2-bd3d-4264-ba8e-7a6adfdcb988",
   "metadata": {},
   "source": [
    "10 - Qual é o preço médio dos produtos em cada linha de produto?"
   ]
  },
  {
   "cell_type": "code",
   "execution_count": 14,
   "id": "cdeac048-f6e7-4957-9221-9f09c426f38e",
   "metadata": {},
   "outputs": [
    {
     "name": "stdout",
     "output_type": "stream",
     "text": [
      "O preço medio de cada produto:\n",
      "Product line\n",
      "Electronic accessories    53.551588\n",
      "Fashion accessories       57.153652\n",
      "Food and beverages        56.008851\n",
      "Health and beauty         54.854474\n",
      "Home and lifestyle        55.316937\n",
      "Sports and travel         56.993253\n",
      "Name: Unit price, dtype: float64\n"
     ]
    }
   ],
   "source": [
    "resp_10 = df.groupby('Product line')['Unit price'].mean()\n",
    "print(f'O preço medio de cada produto:\\n{resp_10}')"
   ]
  },
  {
   "cell_type": "markdown",
   "id": "445a6461-36e4-4820-85fe-2d2113993211",
   "metadata": {},
   "source": [
    "11 - Qual filial teve o maior volume de vendas?"
   ]
  },
  {
   "cell_type": "code",
   "execution_count": 15,
   "id": "29c74723-2870-4e5e-a26a-c0f89fd91f96",
   "metadata": {},
   "outputs": [
    {
     "name": "stdout",
     "output_type": "stream",
     "text": [
      "A filiar que mais teve Volume de vendas foi \"A\"\n"
     ]
    }
   ],
   "source": [
    "resp_11 = df.groupby('Branch')['Quantity'].sum().idxmax()\n",
    "print(f'A filiar que mais teve Volume de vendas foi \"{resp_11}\"')"
   ]
  },
  {
   "cell_type": "markdown",
   "id": "35a80c8e-3f1a-4cad-a6ff-2ecfde6f50be",
   "metadata": {},
   "source": [
    "12 - Qual cidade teve o menor total de vendas?"
   ]
  },
  {
   "cell_type": "code",
   "execution_count": 16,
   "id": "7c0ecc56-be42-4df9-abf2-1bf9388a3bee",
   "metadata": {},
   "outputs": [
    {
     "name": "stdout",
     "output_type": "stream",
     "text": [
      "A cidade que teve o menor numero de vendas foi \"Mandalay\"\n"
     ]
    }
   ],
   "source": [
    "resp_12 = df.groupby('City')['Total'].sum().idxmin()\n",
    "print(f'A cidade que teve o menor numero de vendas foi \"{resp_12}\"')"
   ]
  },
  {
   "cell_type": "markdown",
   "id": "e30e107e-3dd9-4681-85a3-345b6ece29c4",
   "metadata": {},
   "source": [
    "13 - Qual é a média de rating para cada filial?"
   ]
  },
  {
   "cell_type": "code",
   "execution_count": 17,
   "id": "8ca8eab5-474f-48b4-9652-96a4bc2dc952",
   "metadata": {},
   "outputs": [
    {
     "name": "stdout",
     "output_type": "stream",
     "text": [
      "A media avaliação de cada Afilial foi de:\n",
      "Branch\n",
      "A    7.027059\n",
      "B    6.818072\n",
      "C    7.072866\n",
      "Name: Rating, dtype: float64\n"
     ]
    }
   ],
   "source": [
    "resp_13 = df.groupby('Branch')['Rating'].mean()\n",
    "print('A media avaliação de cada Afilial foi de:')\n",
    "print(resp_13)"
   ]
  },
  {
   "cell_type": "markdown",
   "id": "bf7b2d44-6634-4591-af7c-d7302c370ff8",
   "metadata": {},
   "source": [
    "14 - Qual é o dia com o maior volume de vendas?"
   ]
  },
  {
   "cell_type": "code",
   "execution_count": 18,
   "id": "041cc12e-9959-4961-9e8a-15969f1b1359",
   "metadata": {},
   "outputs": [
    {
     "name": "stdout",
     "output_type": "stream",
     "text": [
      "O dia com o maior volume de vendas foi: 2019-03-09 00:00:00\n"
     ]
    }
   ],
   "source": [
    "df['Date'] = pd.to_datetime(df['Date'])\n",
    "vendas_por_dia = df.groupby('Date')['Total'].sum()\n",
    "resp_14 = vendas_por_dia.idxmax()\n",
    "print(f'O dia com o maior volume de vendas foi: {resp_14}')"
   ]
  },
  {
   "cell_type": "markdown",
   "id": "519d752c-f21e-4e19-8872-06b0e904aa72",
   "metadata": {},
   "source": [
    "15 - Qual é a média de vendas por dia da semana?"
   ]
  },
  {
   "cell_type": "code",
   "execution_count": 19,
   "id": "d89ebfa8-cbf2-4bdd-8428-72b155363131",
   "metadata": {
    "scrolled": true
   },
   "outputs": [
    {
     "name": "stdout",
     "output_type": "stream",
     "text": [
      "Média de vendas por dia da semana:\n",
      "Day_of_Week\n",
      "0    303.192624\n",
      "1    325.836997\n",
      "2    305.812133\n",
      "3    328.617739\n",
      "4    316.016838\n",
      "5    342.200058\n",
      "6    334.269868\n",
      "Name: Total, dtype: float64\n"
     ]
    }
   ],
   "source": [
    "df['Date'] = pd.to_datetime(df['Date'])\n",
    "# Extraindo o dia da semana e criando uma nova coluna 'Day_of_Week' (segunda-feira = 0, domingo = 6)\n",
    "df['Day_of_Week'] = df['Date'].dt.dayofweek\n",
    "resp_15 = df.groupby('Day_of_Week')['Total'].mean()\n",
    "print('Média de vendas por dia da semana:')\n",
    "print(resp_15)"
   ]
  },
  {
   "cell_type": "markdown",
   "id": "74dc50b5-c8c2-4851-81d1-647157d5885d",
   "metadata": {},
   "source": [
    "Explicação da tabela acima:<br>\n",
    "0 = Domingo<br>\n",
    "1 = Segunda<br>\n",
    "2 = Terça<br>\n",
    "3 = Quarta<br>\n",
    "4 = Quinta<br>\n",
    "5 = Sexta<br>\n",
    "6 = Sábado"
   ]
  },
  {
   "cell_type": "markdown",
   "id": "4db2abe1-dff3-458b-8205-f4e387eed119",
   "metadata": {},
   "source": [
    "16 - Existe alguma sazonalidade(padrões) nas vendas ao longo do ano?"
   ]
  },
  {
   "cell_type": "code",
   "execution_count": 24,
   "id": "fac5efb4-451f-46cc-930c-38139fac04dc",
   "metadata": {
    "scrolled": true
   },
   "outputs": [
    {
     "name": "stdout",
     "output_type": "stream",
     "text": [
      "Date\n",
      "1    330.374625\n",
      "2    320.856020\n",
      "3    317.262339\n",
      "Name: Total, dtype: float64\n"
     ]
    }
   ],
   "source": [
    "df['Date'] = pd.to_datetime(df['Date'])\n",
    "resp_16 = df.groupby(df['Date'].dt.month)['Total'].mean()\n",
    "print(resp_16)"
   ]
  },
  {
   "cell_type": "markdown",
   "id": "f08e3230-e5b6-4381-9a9c-2428b2c7601d",
   "metadata": {},
   "source": [
    "Nota: Como a somente 3 mes, não é possivel verificar se á sazonalidade(padrões), é preciso de mais acumulode dados."
   ]
  },
  {
   "cell_type": "markdown",
   "id": "52580887-d7af-41bd-82e0-af7b6a4c098d",
   "metadata": {},
   "source": [
    "17 - Qual é o método de pagamento mais comum?"
   ]
  },
  {
   "cell_type": "code",
   "execution_count": 21,
   "id": "dd22dfa3-be31-42f0-945a-0f6f26cdb1e2",
   "metadata": {},
   "outputs": [
    {
     "name": "stdout",
     "output_type": "stream",
     "text": [
      "O método de pagamento mais comum é: Ewallet\n"
     ]
    }
   ],
   "source": [
    "metodos_pagamento = df['Payment'].value_counts()\n",
    "resp_17 = metodos_pagamento.idxmax()\n",
    "print(f'O método de pagamento mais comum é: {resp_17}')"
   ]
  },
  {
   "cell_type": "markdown",
   "id": "2d0b2342-d211-43ac-b7b5-13911b233b01",
   "metadata": {},
   "source": [
    "18 - Qual é o método de pagamento preferido pelos clientes mais bem avaliados?"
   ]
  },
  {
   "cell_type": "code",
   "execution_count": 22,
   "id": "d5c66763-3571-4aa3-a81a-a2795ed1a02e",
   "metadata": {},
   "outputs": [
    {
     "name": "stdout",
     "output_type": "stream",
     "text": [
      "O método de pagamento preferido pelos clientes mais bem avaliados é: Ewallet\n"
     ]
    }
   ],
   "source": [
    "max_avaliacao = df['Rating'].max()\n",
    "clientes_melhor_avaliados = df[df['Rating'] == max_avaliacao]\n",
    "resp_18 = clientes_melhor_avaliados['Payment'].value_counts().idxmax()\n",
    "print(f'O método de pagamento preferido pelos clientes mais bem avaliados é: {resp_18}')"
   ]
  },
  {
   "cell_type": "code",
   "execution_count": null,
   "id": "95ef5aad-1062-4024-a35b-220568471376",
   "metadata": {},
   "outputs": [],
   "source": []
  }
 ],
 "metadata": {
  "kernelspec": {
   "display_name": "Python 3 (ipykernel)",
   "language": "python",
   "name": "python3"
  },
  "language_info": {
   "codemirror_mode": {
    "name": "ipython",
    "version": 3
   },
   "file_extension": ".py",
   "mimetype": "text/x-python",
   "name": "python",
   "nbconvert_exporter": "python",
   "pygments_lexer": "ipython3",
   "version": "3.10.12"
  },
  "widgets": {
   "application/vnd.jupyter.widget-state+json": {
    "state": {},
    "version_major": 2,
    "version_minor": 0
   }
  }
 },
 "nbformat": 4,
 "nbformat_minor": 5
}
